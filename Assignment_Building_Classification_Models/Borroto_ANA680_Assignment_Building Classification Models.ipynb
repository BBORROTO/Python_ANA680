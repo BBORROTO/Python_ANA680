{
 "cells": [
  {
   "cell_type": "markdown",
   "id": "dd59237e-9fe5-487e-8902-b45c80abcc9b",
   "metadata": {},
   "source": [
    "#### Brittani Borroto ANA680 Assignment: Building Classification Models"
   ]
  },
  {
   "cell_type": "code",
   "execution_count": 13,
   "id": "b736b475-69db-4e94-82be-270b8808199f",
   "metadata": {},
   "outputs": [
    {
     "name": "stdout",
     "output_type": "stream",
     "text": [
      "Requirement already satisfied: ucimlrepo in c:\\users\\britt\\onedrive\\documents\\m_ana615\\anaconda\\lib\\site-packages (0.0.7)\n",
      "Requirement already satisfied: pandas>=1.0.0 in c:\\users\\britt\\onedrive\\documents\\m_ana615\\anaconda\\lib\\site-packages (from ucimlrepo) (2.2.2)\n",
      "Requirement already satisfied: certifi>=2020.12.5 in c:\\users\\britt\\onedrive\\documents\\m_ana615\\anaconda\\lib\\site-packages (from ucimlrepo) (2024.8.30)\n",
      "Requirement already satisfied: numpy>=1.26.0 in c:\\users\\britt\\onedrive\\documents\\m_ana615\\anaconda\\lib\\site-packages (from pandas>=1.0.0->ucimlrepo) (1.26.4)\n",
      "Requirement already satisfied: python-dateutil>=2.8.2 in c:\\users\\britt\\onedrive\\documents\\m_ana615\\anaconda\\lib\\site-packages (from pandas>=1.0.0->ucimlrepo) (2.9.0.post0)\n",
      "Requirement already satisfied: pytz>=2020.1 in c:\\users\\britt\\onedrive\\documents\\m_ana615\\anaconda\\lib\\site-packages (from pandas>=1.0.0->ucimlrepo) (2024.1)\n",
      "Requirement already satisfied: tzdata>=2022.7 in c:\\users\\britt\\onedrive\\documents\\m_ana615\\anaconda\\lib\\site-packages (from pandas>=1.0.0->ucimlrepo) (2023.3)\n",
      "Requirement already satisfied: six>=1.5 in c:\\users\\britt\\onedrive\\documents\\m_ana615\\anaconda\\lib\\site-packages (from python-dateutil>=2.8.2->pandas>=1.0.0->ucimlrepo) (1.16.0)\n",
      "Note: you may need to restart the kernel to use updated packages.\n"
     ]
    }
   ],
   "source": [
    "pip install ucimlrepo"
   ]
  },
  {
   "cell_type": "code",
   "execution_count": 14,
   "id": "474778b7-af9b-414a-bfb8-d5ae9b7b45f3",
   "metadata": {
    "scrolled": true
   },
   "outputs": [
    {
     "name": "stdout",
     "output_type": "stream",
     "text": [
      "Collecting xgboost\n",
      "  Downloading xgboost-3.0.3-py3-none-win_amd64.whl.metadata (2.1 kB)\n",
      "Requirement already satisfied: numpy in c:\\users\\britt\\onedrive\\documents\\m_ana615\\anaconda\\lib\\site-packages (from xgboost) (1.26.4)\n",
      "Requirement already satisfied: scipy in c:\\users\\britt\\onedrive\\documents\\m_ana615\\anaconda\\lib\\site-packages (from xgboost) (1.13.1)\n",
      "Downloading xgboost-3.0.3-py3-none-win_amd64.whl (149.9 MB)\n",
      "   ---------------------------------------- 0.0/149.9 MB ? eta -:--:--\n",
      "   ---------------------------------------- 0.5/149.9 MB 5.7 MB/s eta 0:00:27\n",
      "   ---------------------------------------- 1.8/149.9 MB 5.6 MB/s eta 0:00:27\n",
      "    --------------------------------------- 3.1/149.9 MB 6.4 MB/s eta 0:00:24\n",
      "   - -------------------------------------- 5.0/149.9 MB 6.7 MB/s eta 0:00:22\n",
      "   - -------------------------------------- 6.8/149.9 MB 7.4 MB/s eta 0:00:20\n",
      "   -- ------------------------------------- 8.7/149.9 MB 7.6 MB/s eta 0:00:19\n",
      "   -- ------------------------------------- 10.5/149.9 MB 7.9 MB/s eta 0:00:18\n",
      "   --- ------------------------------------ 12.6/149.9 MB 8.0 MB/s eta 0:00:18\n",
      "   --- ------------------------------------ 14.7/149.9 MB 8.4 MB/s eta 0:00:17\n",
      "   ---- ----------------------------------- 16.5/149.9 MB 8.3 MB/s eta 0:00:17\n",
      "   ---- ----------------------------------- 18.6/149.9 MB 8.6 MB/s eta 0:00:16\n",
      "   ----- ---------------------------------- 20.7/149.9 MB 8.7 MB/s eta 0:00:15\n",
      "   ------ --------------------------------- 23.1/149.9 MB 8.8 MB/s eta 0:00:15\n",
      "   ------ --------------------------------- 24.6/149.9 MB 8.8 MB/s eta 0:00:15\n",
      "   ------- -------------------------------- 26.5/149.9 MB 8.8 MB/s eta 0:00:14\n",
      "   ------- -------------------------------- 28.3/149.9 MB 8.8 MB/s eta 0:00:14\n",
      "   -------- ------------------------------- 30.7/149.9 MB 9.0 MB/s eta 0:00:14\n",
      "   -------- ------------------------------- 32.8/149.9 MB 9.0 MB/s eta 0:00:14\n",
      "   --------- ------------------------------ 35.4/149.9 MB 9.2 MB/s eta 0:00:13\n",
      "   ---------- ----------------------------- 37.5/149.9 MB 9.3 MB/s eta 0:00:13\n",
      "   ---------- ----------------------------- 40.1/149.9 MB 9.4 MB/s eta 0:00:12\n",
      "   ----------- ---------------------------- 42.5/149.9 MB 9.6 MB/s eta 0:00:12\n",
      "   ------------ --------------------------- 45.4/149.9 MB 9.7 MB/s eta 0:00:11\n",
      "   ------------ --------------------------- 47.4/149.9 MB 9.7 MB/s eta 0:00:11\n",
      "   ------------- -------------------------- 49.5/149.9 MB 9.8 MB/s eta 0:00:11\n",
      "   ------------- -------------------------- 52.2/149.9 MB 9.9 MB/s eta 0:00:10\n",
      "   -------------- ------------------------- 54.8/149.9 MB 10.0 MB/s eta 0:00:10\n",
      "   --------------- ------------------------ 57.4/149.9 MB 10.1 MB/s eta 0:00:10\n",
      "   --------------- ------------------------ 59.8/149.9 MB 10.1 MB/s eta 0:00:09\n",
      "   ---------------- ----------------------- 62.4/149.9 MB 10.2 MB/s eta 0:00:09\n",
      "   ----------------- ---------------------- 65.0/149.9 MB 10.3 MB/s eta 0:00:09\n",
      "   ------------------ --------------------- 67.9/149.9 MB 10.4 MB/s eta 0:00:08\n",
      "   ------------------ --------------------- 70.3/149.9 MB 10.4 MB/s eta 0:00:08\n",
      "   ------------------- -------------------- 72.9/149.9 MB 10.5 MB/s eta 0:00:08\n",
      "   -------------------- ------------------- 75.2/149.9 MB 10.5 MB/s eta 0:00:08\n",
      "   -------------------- ------------------- 77.9/149.9 MB 10.6 MB/s eta 0:00:07\n",
      "   --------------------- ------------------ 80.5/149.9 MB 10.7 MB/s eta 0:00:07\n",
      "   ---------------------- ----------------- 82.8/149.9 MB 10.7 MB/s eta 0:00:07\n",
      "   ---------------------- ----------------- 85.2/149.9 MB 10.7 MB/s eta 0:00:07\n",
      "   ----------------------- ---------------- 87.3/149.9 MB 10.7 MB/s eta 0:00:06\n",
      "   ----------------------- ---------------- 89.9/149.9 MB 10.7 MB/s eta 0:00:06\n",
      "   ------------------------ --------------- 91.8/149.9 MB 10.7 MB/s eta 0:00:06\n",
      "   ------------------------ --------------- 93.6/149.9 MB 10.7 MB/s eta 0:00:06\n",
      "   ------------------------- -------------- 95.4/149.9 MB 10.6 MB/s eta 0:00:06\n",
      "   -------------------------- ------------- 97.5/149.9 MB 10.6 MB/s eta 0:00:05\n",
      "   -------------------------- ------------- 99.9/149.9 MB 10.6 MB/s eta 0:00:05\n",
      "   -------------------------- ------------ 102.0/149.9 MB 10.6 MB/s eta 0:00:05\n",
      "   -------------------------- ------------ 103.5/149.9 MB 10.6 MB/s eta 0:00:05\n",
      "   --------------------------- ----------- 105.6/149.9 MB 10.6 MB/s eta 0:00:05\n",
      "   --------------------------- ----------- 107.5/149.9 MB 10.5 MB/s eta 0:00:05\n",
      "   ---------------------------- ---------- 109.1/149.9 MB 10.4 MB/s eta 0:00:04\n",
      "   ----------------------------- --------- 111.7/149.9 MB 10.5 MB/s eta 0:00:04\n",
      "   ----------------------------- --------- 114.0/149.9 MB 10.5 MB/s eta 0:00:04\n",
      "   ------------------------------ -------- 116.7/149.9 MB 10.5 MB/s eta 0:00:04\n",
      "   ------------------------------- ------- 119.3/149.9 MB 10.6 MB/s eta 0:00:03\n",
      "   ------------------------------- ------- 120.8/149.9 MB 10.5 MB/s eta 0:00:03\n",
      "   -------------------------------- ------ 123.5/149.9 MB 10.6 MB/s eta 0:00:03\n",
      "   -------------------------------- ------ 126.1/149.9 MB 10.6 MB/s eta 0:00:03\n",
      "   --------------------------------- ----- 127.9/149.9 MB 10.6 MB/s eta 0:00:03\n",
      "   --------------------------------- ----- 130.3/149.9 MB 10.6 MB/s eta 0:00:02\n",
      "   ---------------------------------- ---- 131.1/149.9 MB 10.5 MB/s eta 0:00:02\n",
      "   ---------------------------------- ---- 131.9/149.9 MB 10.4 MB/s eta 0:00:02\n",
      "   ---------------------------------- ---- 132.6/149.9 MB 10.3 MB/s eta 0:00:02\n",
      "   ---------------------------------- ---- 133.2/149.9 MB 10.2 MB/s eta 0:00:02\n",
      "   ---------------------------------- ---- 134.2/149.9 MB 10.1 MB/s eta 0:00:02\n",
      "   ----------------------------------- --- 135.0/149.9 MB 10.0 MB/s eta 0:00:02\n",
      "   ------------------------------------ --- 136.1/149.9 MB 9.9 MB/s eta 0:00:02\n",
      "   ------------------------------------ --- 136.3/149.9 MB 9.9 MB/s eta 0:00:02\n",
      "   ------------------------------------ --- 136.8/149.9 MB 9.8 MB/s eta 0:00:02\n",
      "   ------------------------------------ --- 137.4/149.9 MB 9.6 MB/s eta 0:00:02\n",
      "   ------------------------------------ --- 138.1/149.9 MB 9.5 MB/s eta 0:00:02\n",
      "   ------------------------------------ --- 138.4/149.9 MB 9.4 MB/s eta 0:00:02\n",
      "   ------------------------------------- -- 138.9/149.9 MB 9.3 MB/s eta 0:00:02\n",
      "   ------------------------------------- -- 139.5/149.9 MB 9.2 MB/s eta 0:00:02\n",
      "   ------------------------------------- -- 139.7/149.9 MB 9.1 MB/s eta 0:00:02\n",
      "   ------------------------------------- -- 140.0/149.9 MB 9.1 MB/s eta 0:00:02\n",
      "   ------------------------------------- -- 140.8/149.9 MB 8.9 MB/s eta 0:00:02\n",
      "   ------------------------------------- -- 141.0/149.9 MB 8.8 MB/s eta 0:00:02\n",
      "   ------------------------------------- -- 141.8/149.9 MB 8.7 MB/s eta 0:00:01\n",
      "   ------------------------------------- -- 142.3/149.9 MB 8.7 MB/s eta 0:00:01\n",
      "   -------------------------------------- - 143.1/149.9 MB 8.6 MB/s eta 0:00:01\n",
      "   -------------------------------------- - 143.7/149.9 MB 8.5 MB/s eta 0:00:01\n",
      "   -------------------------------------- - 143.9/149.9 MB 8.5 MB/s eta 0:00:01\n",
      "   -------------------------------------- - 144.2/149.9 MB 8.4 MB/s eta 0:00:01\n",
      "   -------------------------------------- - 145.0/149.9 MB 8.3 MB/s eta 0:00:01\n",
      "   -------------------------------------- - 145.5/149.9 MB 8.2 MB/s eta 0:00:01\n",
      "   -------------------------------------- - 146.0/149.9 MB 8.2 MB/s eta 0:00:01\n",
      "   ---------------------------------------  146.5/149.9 MB 8.1 MB/s eta 0:00:01\n",
      "   ---------------------------------------  146.5/149.9 MB 8.1 MB/s eta 0:00:01\n",
      "   ---------------------------------------  147.1/149.9 MB 8.0 MB/s eta 0:00:01\n",
      "   ---------------------------------------  147.6/149.9 MB 7.9 MB/s eta 0:00:01\n",
      "   ---------------------------------------  148.1/149.9 MB 7.8 MB/s eta 0:00:01\n",
      "   ---------------------------------------  148.6/149.9 MB 7.8 MB/s eta 0:00:01\n",
      "   ---------------------------------------  149.2/149.9 MB 7.7 MB/s eta 0:00:01\n",
      "   ---------------------------------------  149.7/149.9 MB 7.7 MB/s eta 0:00:01\n",
      "   ---------------------------------------  149.7/149.9 MB 7.7 MB/s eta 0:00:01\n",
      "   ---------------------------------------- 149.9/149.9 MB 7.5 MB/s  0:00:19\n",
      "Installing collected packages: xgboost\n",
      "Successfully installed xgboost-3.0.3\n"
     ]
    }
   ],
   "source": [
    "!pip install xgboost"
   ]
  },
  {
   "cell_type": "code",
   "execution_count": 45,
   "id": "0b6cebdf-bb4f-4480-9985-f2716ab5eddb",
   "metadata": {},
   "outputs": [],
   "source": [
    "from ucimlrepo import fetch_ucirepo \n",
    "import pandas as pd\n",
    "import numpy as np\n",
    "from sklearn.model_selection import train_test_split\n",
    "from sklearn.preprocessing import StandardScaler\n",
    "from sklearn.metrics import accuracy_score, confusion_matrix\n",
    "from sklearn.linear_model import LogisticRegression\n",
    "from sklearn.svm import SVC\n",
    "from sklearn.tree import DecisionTreeClassifier\n",
    "from sklearn.ensemble import RandomForestClassifier\n",
    "from sklearn.neighbors import KNeighborsClassifier\n",
    "from sklearn.naive_bayes import GaussianNB\n",
    "from xgboost import XGBClassifier\n",
    "from sklearn.model_selection import train_test_split"
   ]
  },
  {
   "cell_type": "code",
   "execution_count": 46,
   "id": "c5996038-193e-4c5a-bfb8-22e385d6aa3b",
   "metadata": {},
   "outputs": [],
   "source": [
    "# fetch dataset \n",
    "breast_cancer_wisconsin_original = fetch_ucirepo(id=15) "
   ]
  },
  {
   "cell_type": "code",
   "execution_count": 47,
   "id": "eb0d9e96-c9e5-4a1a-ba1d-ee3140a87218",
   "metadata": {},
   "outputs": [],
   "source": [
    "# data (as pandas dataframes) \n",
    "X = breast_cancer_wisconsin_original.data.features \n",
    "y = breast_cancer_wisconsin_original.data.targets "
   ]
  },
  {
   "cell_type": "code",
   "execution_count": 48,
   "id": "aa434ce1-48fb-4eaa-aa7f-5a47901f6d19",
   "metadata": {},
   "outputs": [
    {
     "name": "stdout",
     "output_type": "stream",
     "text": [
      "                           name     role         type demographic  \\\n",
      "0            Sample_code_number       ID  Categorical        None   \n",
      "1               Clump_thickness  Feature      Integer        None   \n",
      "2       Uniformity_of_cell_size  Feature      Integer        None   \n",
      "3      Uniformity_of_cell_shape  Feature      Integer        None   \n",
      "4             Marginal_adhesion  Feature      Integer        None   \n",
      "5   Single_epithelial_cell_size  Feature      Integer        None   \n",
      "6                   Bare_nuclei  Feature      Integer        None   \n",
      "7               Bland_chromatin  Feature      Integer        None   \n",
      "8               Normal_nucleoli  Feature      Integer        None   \n",
      "9                       Mitoses  Feature      Integer        None   \n",
      "10                        Class   Target       Binary        None   \n",
      "\n",
      "                  description units missing_values  \n",
      "0                        None  None             no  \n",
      "1                        None  None             no  \n",
      "2                        None  None             no  \n",
      "3                        None  None             no  \n",
      "4                        None  None             no  \n",
      "5                        None  None             no  \n",
      "6                        None  None            yes  \n",
      "7                        None  None             no  \n",
      "8                        None  None             no  \n",
      "9                        None  None             no  \n",
      "10  2 = benign, 4 = malignant  None             no  \n"
     ]
    }
   ],
   "source": [
    "# variable information \n",
    "print(breast_cancer_wisconsin_original.variables) "
   ]
  },
  {
   "cell_type": "markdown",
   "id": "80047d87-654d-4e41-ac2d-205471f1a5e9",
   "metadata": {},
   "source": [
    "\n",
    "#\n",
    "\n",
    "\n",
    "##### Dataset review:\n",
    "\n",
    "\n",
    "This Wisconsin Breast Cancer dataset has about 683 patients’ data, with 10 features and 1 class label indicating whether the patient has cancer or not. Each row describes one patient, and the class column describes if the patient tumor is benign with label of 2 or if the patient tumor is malignant with a label of 4. \n",
    "\n",
    "\n",
    "1. Sample code number: id number \n",
    "2. Clump Thickness: 1 - 10 \n",
    "3. Uniformity of Cell Size: 1 - 10 \n",
    "4. Uniformity of Cell Shape: 1 – 10\n",
    "5. Marginal Adhesion: 1 - 10 \n",
    "6. Single Epithelial Cell Size: 1 - 10 \n",
    "7. Bare Nuclei: 1 - 10 \n",
    "8. Bland Chromatin: 1 - 10 \n",
    "9. Normal Nucleoli: 1 - 10 \n",
    "10. Mitoses: 1 - 10 \n",
    "11. Class: (2 for benign, 4 for malignant)\n",
    "\n",
    "\n",
    "#"
   ]
  },
  {
   "cell_type": "code",
   "execution_count": 49,
   "id": "a79dba21-844a-4e04-b74d-b6589c242b55",
   "metadata": {},
   "outputs": [
    {
     "data": {
      "text/plain": [
       "Class\n",
       "Benign       444\n",
       "Malignant    239\n",
       "Name: count, dtype: int64"
      ]
     },
     "execution_count": 49,
     "metadata": {},
     "output_type": "execute_result"
    }
   ],
   "source": [
    "#count class distribution\n",
    "y_encoded.value_counts().rename({0: \"Benign\", 1: \"Malignant\"})"
   ]
  },
  {
   "cell_type": "code",
   "execution_count": 50,
   "id": "56a1b8a0-dd87-4716-956c-79ba7d609c0a",
   "metadata": {},
   "outputs": [],
   "source": [
    "#drop rows with missing values\n",
    "X_clean = X.dropna()"
   ]
  },
  {
   "cell_type": "code",
   "execution_count": 51,
   "id": "518438ee-5d13-4832-8f1d-8bf6833ad1e8",
   "metadata": {},
   "outputs": [],
   "source": [
    "#align target\n",
    "y_clean = y.loc[X_clean.index]"
   ]
  },
  {
   "cell_type": "code",
   "execution_count": 52,
   "id": "29d34b20-605b-4b05-a901-9fdb24eb63c1",
   "metadata": {},
   "outputs": [],
   "source": [
    "#map target labels: 2 → 0 (Benign), 4 → 1 (Malignant)\n",
    "y_encoded = y_clean[\"Class\"].map({2: 0, 4: 1})"
   ]
  },
  {
   "cell_type": "code",
   "execution_count": 53,
   "id": "222ccc8e-ce26-421b-a462-659e766a41c6",
   "metadata": {},
   "outputs": [],
   "source": [
    "#train-test split\n",
    "X_train, X_test, y_train, y_test = train_test_split(\n",
    "    X_clean, y_encoded, test_size=0.25, random_state=42, stratify=y_encoded\n",
    ")"
   ]
  },
  {
   "cell_type": "code",
   "execution_count": 54,
   "id": "e92d6471-c083-429c-8c86-7a66a78ce086",
   "metadata": {},
   "outputs": [],
   "source": [
    "#feature scaling\n",
    "scaler = StandardScaler()\n",
    "X_train_scaled = scaler.fit_transform(X_train)\n",
    "X_test_scaled = scaler.transform(X_test)"
   ]
  },
  {
   "cell_type": "code",
   "execution_count": 56,
   "id": "4e627419-0dd6-4478-bdd9-c03fca5017b2",
   "metadata": {},
   "outputs": [
    {
     "name": "stderr",
     "output_type": "stream",
     "text": [
      "C:\\Users\\britt\\OneDrive\\Documents\\M_ANA615\\ANACONDA\\Lib\\site-packages\\xgboost\\training.py:183: UserWarning: [19:36:01] WARNING: C:\\actions-runner\\_work\\xgboost\\xgboost\\src\\learner.cc:738: \n",
      "Parameters: { \"use_label_encoder\" } are not used.\n",
      "\n",
      "  bst.update(dtrain, iteration=i, fobj=obj)\n"
     ]
    }
   ],
   "source": [
    "models = {\n",
    "    \"Logistic Regression\": LogisticRegression(max_iter=1000),\n",
    "    \"KNN (k=5)\": KNeighborsClassifier(n_neighbors=5),\n",
    "    \"Linear SVM\": SVC(kernel='linear'),\n",
    "    \"Kernel SVM (RBF)\": SVC(kernel='rbf'),\n",
    "    \"Naive Bayes\": GaussianNB(),\n",
    "    \"Decision Tree\": DecisionTreeClassifier(),\n",
    "    \"Random Forest (n=10)\": RandomForestClassifier(n_estimators=10),\n",
    "    \"XGBoost\": XGBClassifier(use_label_encoder=False, eval_metric='logloss')\n",
    "}\n",
    "\n",
    "results = []\n",
    "\n",
    "for name, model in models.items():\n",
    "    model.fit(X_train_scaled, y_train)\n",
    "    y_pred = model.predict(X_test_scaled)\n",
    "    acc = accuracy_score(y_test, y_pred)\n",
    "    cm = confusion_matrix(y_test, y_pred)\n",
    "    results.append({\n",
    "        \"Model\": name,\n",
    "        \"Accuracy\": round(acc, 4),\n",
    "        \"Confusion Matrix\": cm\n",
    "    })"
   ]
  },
  {
   "cell_type": "code",
   "execution_count": 57,
   "id": "34e408be-a5e6-4078-b8ae-04f5ec8a17ea",
   "metadata": {},
   "outputs": [
    {
     "data": {
      "text/html": [
       "<div>\n",
       "<style scoped>\n",
       "    .dataframe tbody tr th:only-of-type {\n",
       "        vertical-align: middle;\n",
       "    }\n",
       "\n",
       "    .dataframe tbody tr th {\n",
       "        vertical-align: top;\n",
       "    }\n",
       "\n",
       "    .dataframe thead th {\n",
       "        text-align: right;\n",
       "    }\n",
       "</style>\n",
       "<table border=\"1\" class=\"dataframe\">\n",
       "  <thead>\n",
       "    <tr style=\"text-align: right;\">\n",
       "      <th></th>\n",
       "      <th>Accuracy</th>\n",
       "      <th>Confusion Matrix</th>\n",
       "    </tr>\n",
       "    <tr>\n",
       "      <th>Model</th>\n",
       "      <th></th>\n",
       "      <th></th>\n",
       "    </tr>\n",
       "  </thead>\n",
       "  <tbody>\n",
       "    <tr>\n",
       "      <th>Logistic Regression</th>\n",
       "      <td>0.9591</td>\n",
       "      <td>[[106, 5], [2, 58]]</td>\n",
       "    </tr>\n",
       "    <tr>\n",
       "      <th>KNN (k=5)</th>\n",
       "      <td>0.9532</td>\n",
       "      <td>[[106, 5], [3, 57]]</td>\n",
       "    </tr>\n",
       "    <tr>\n",
       "      <th>Linear SVM</th>\n",
       "      <td>0.9591</td>\n",
       "      <td>[[106, 5], [2, 58]]</td>\n",
       "    </tr>\n",
       "    <tr>\n",
       "      <th>Kernel SVM (RBF)</th>\n",
       "      <td>0.9649</td>\n",
       "      <td>[[106, 5], [1, 59]]</td>\n",
       "    </tr>\n",
       "    <tr>\n",
       "      <th>Naive Bayes</th>\n",
       "      <td>0.9591</td>\n",
       "      <td>[[106, 5], [2, 58]]</td>\n",
       "    </tr>\n",
       "    <tr>\n",
       "      <th>Decision Tree</th>\n",
       "      <td>0.9649</td>\n",
       "      <td>[[106, 5], [1, 59]]</td>\n",
       "    </tr>\n",
       "    <tr>\n",
       "      <th>Random Forest (n=10)</th>\n",
       "      <td>0.9649</td>\n",
       "      <td>[[106, 5], [1, 59]]</td>\n",
       "    </tr>\n",
       "    <tr>\n",
       "      <th>XGBoost</th>\n",
       "      <td>0.9708</td>\n",
       "      <td>[[106, 5], [0, 60]]</td>\n",
       "    </tr>\n",
       "  </tbody>\n",
       "</table>\n",
       "</div>"
      ],
      "text/plain": [
       "                      Accuracy     Confusion Matrix\n",
       "Model                                              \n",
       "Logistic Regression     0.9591  [[106, 5], [2, 58]]\n",
       "KNN (k=5)               0.9532  [[106, 5], [3, 57]]\n",
       "Linear SVM              0.9591  [[106, 5], [2, 58]]\n",
       "Kernel SVM (RBF)        0.9649  [[106, 5], [1, 59]]\n",
       "Naive Bayes             0.9591  [[106, 5], [2, 58]]\n",
       "Decision Tree           0.9649  [[106, 5], [1, 59]]\n",
       "Random Forest (n=10)    0.9649  [[106, 5], [1, 59]]\n",
       "XGBoost                 0.9708  [[106, 5], [0, 60]]"
      ]
     },
     "execution_count": 57,
     "metadata": {},
     "output_type": "execute_result"
    }
   ],
   "source": [
    "results_df = pd.DataFrame(results)\n",
    "results_df.set_index(\"Model\", inplace=True)\n",
    "results_df"
   ]
  },
  {
   "cell_type": "markdown",
   "id": "92912416-b693-4656-8271-7cbaa52d1fc1",
   "metadata": {},
   "source": [
    "##### Model review: \n",
    "\n",
    "\n",
    "Logistic Regression\t0.9591\t[[106, 5], [2, 58]] - reflects a very strong accuracy rate, with only two FN\n",
    "\n",
    "KNN (k=5)\t0.9532\t[[106, 5], [3, 57]] - not as strong as the Logistic Regression model, with three missed malignant cases\n",
    "\n",
    "Linear SVM\t0.9591\t[[106, 5], [2, 58]] - the output is the same as the Logistic Regression model\n",
    "\n",
    "Kernel SVM (RBF)\t0.9649\t[[106, 5], [1, 59]] - this model has an improved accuracy, with only one FN\n",
    "\n",
    "Naive Bayes\t0.9591\t[[106, 5], [2, 58]] - the output is the same as the Logistic Regression model\n",
    "\n",
    "Decision Tree\t0.9649\t[[106, 5], [1, 59]] - the output is the same as the SVM model\n",
    "\n",
    "Random Forest (n=10)\t0.9649\t[[106, 5], [1, 59]] - the output is the same as the SVM model\n",
    "\n",
    "XGBoost\t0.9708\t[[106, 5], [0, 60]] - the XGBoost model performed the best, with the perfect recall and no FN\n",
    "\n",
    "\n",
    "#\n",
    "\n",
    "##### [[TN, FP], [FN, TP]]\n",
    "\n",
    "\n",
    "##### Legend:\n",
    "\n",
    "TN = True Negative: Benign cases correctly predicted as benign\n",
    "\n",
    "FP = False Positives: Benign cases incorrectly predicted as malignant\n",
    "\n",
    "FN = False Negatives: Malignant cases incorrectly predicted as benign\n",
    "\n",
    "TP = True Positives: Malignant cases correctly predicted as malignant\n",
    "\n",
    "\n",
    "#"
   ]
  },
  {
   "cell_type": "code",
   "execution_count": null,
   "id": "ffaceaab-a1a7-485b-8664-9b1ecdec0a55",
   "metadata": {},
   "outputs": [],
   "source": []
  },
  {
   "cell_type": "code",
   "execution_count": null,
   "id": "37d7f348-ae8f-4924-b7d4-2e36f841eafa",
   "metadata": {},
   "outputs": [],
   "source": []
  }
 ],
 "metadata": {
  "kernelspec": {
   "display_name": "Python (base)",
   "language": "python",
   "name": "base"
  },
  "language_info": {
   "codemirror_mode": {
    "name": "ipython",
    "version": 3
   },
   "file_extension": ".py",
   "mimetype": "text/x-python",
   "name": "python",
   "nbconvert_exporter": "python",
   "pygments_lexer": "ipython3",
   "version": "3.12.7"
  }
 },
 "nbformat": 4,
 "nbformat_minor": 5
}
