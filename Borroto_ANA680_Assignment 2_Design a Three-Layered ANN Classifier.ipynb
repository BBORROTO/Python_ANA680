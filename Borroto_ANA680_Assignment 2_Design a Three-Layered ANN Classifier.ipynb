{
 "cells": [
  {
   "cell_type": "markdown",
   "id": "46e8433c-1e99-4315-8319-f935979a756a",
   "metadata": {},
   "source": [
    "#### Brittani Borroto_ANA680_Assignment 2_Design a Three-Layered ANN Classifier"
   ]
  },
  {
   "cell_type": "code",
   "execution_count": 12,
   "id": "77cc8e33-6ca6-4fca-8b6c-02086cf51865",
   "metadata": {},
   "outputs": [],
   "source": [
    "import pandas as pd\n",
    "from sklearn.model_selection import train_test_split\n",
    "from sklearn.preprocessing import LabelEncoder, StandardScaler\n",
    "from sklearn.metrics import confusion_matrix, accuracy_score\n",
    "import tensorflow as tf\n",
    "from tensorflow import keras\n",
    "from tensorflow.keras.models import Sequential\n",
    "from tensorflow.keras.layers import Dense"
   ]
  },
  {
   "cell_type": "code",
   "execution_count": 13,
   "id": "3dfe826a-5a95-47a2-ad5f-5f5f1d91bac4",
   "metadata": {},
   "outputs": [],
   "source": [
    "#load dataset\n",
    "df = pd.read_csv(\"Churn_Modelling.csv\")"
   ]
  },
  {
   "cell_type": "code",
   "execution_count": 14,
   "id": "f71026e0-1a55-4f7f-bca5-6a01967a81c3",
   "metadata": {},
   "outputs": [
    {
     "name": "stdout",
     "output_type": "stream",
     "text": [
      "   RowNumber  CustomerId   Surname  CreditScore Geography  Gender  Age  \\\n",
      "0          1    15634602  Hargrave          619    France  Female   42   \n",
      "1          2    15647311      Hill          608     Spain  Female   41   \n",
      "2          3    15619304      Onio          502    France  Female   42   \n",
      "3          4    15701354      Boni          699    France  Female   39   \n",
      "4          5    15737888  Mitchell          850     Spain  Female   43   \n",
      "\n",
      "   Tenure    Balance  NumOfProducts  HasCrCard  IsActiveMember  \\\n",
      "0       2       0.00              1          1               1   \n",
      "1       1   83807.86              1          0               1   \n",
      "2       8  159660.80              3          1               0   \n",
      "3       1       0.00              2          0               0   \n",
      "4       2  125510.82              1          1               1   \n",
      "\n",
      "   EstimatedSalary  Exited  \n",
      "0        101348.88       1  \n",
      "1        112542.58       0  \n",
      "2        113931.57       1  \n",
      "3         93826.63       0  \n",
      "4         79084.10       0  \n"
     ]
    }
   ],
   "source": [
    "#dataset review\n",
    "print(df.head())"
   ]
  },
  {
   "cell_type": "code",
   "execution_count": 16,
   "id": "ad3ef204-5525-4aa8-829f-da06ea10ac09",
   "metadata": {},
   "outputs": [
    {
     "name": "stdout",
     "output_type": "stream",
     "text": [
      "<class 'pandas.core.frame.DataFrame'>\n",
      "RangeIndex: 10000 entries, 0 to 9999\n",
      "Data columns (total 14 columns):\n",
      " #   Column           Non-Null Count  Dtype  \n",
      "---  ------           --------------  -----  \n",
      " 0   RowNumber        10000 non-null  int64  \n",
      " 1   CustomerId       10000 non-null  int64  \n",
      " 2   Surname          10000 non-null  object \n",
      " 3   CreditScore      10000 non-null  int64  \n",
      " 4   Geography        10000 non-null  object \n",
      " 5   Gender           10000 non-null  object \n",
      " 6   Age              10000 non-null  int64  \n",
      " 7   Tenure           10000 non-null  int64  \n",
      " 8   Balance          10000 non-null  float64\n",
      " 9   NumOfProducts    10000 non-null  int64  \n",
      " 10  HasCrCard        10000 non-null  int64  \n",
      " 11  IsActiveMember   10000 non-null  int64  \n",
      " 12  EstimatedSalary  10000 non-null  float64\n",
      " 13  Exited           10000 non-null  int64  \n",
      "dtypes: float64(2), int64(9), object(3)\n",
      "memory usage: 1.1+ MB\n",
      "None\n"
     ]
    }
   ],
   "source": [
    "print(df.info())"
   ]
  },
  {
   "cell_type": "code",
   "execution_count": 17,
   "id": "d3768a23-a1b7-4b84-84b5-735571c638d1",
   "metadata": {},
   "outputs": [
    {
     "name": "stdout",
     "output_type": "stream",
     "text": [
      "RowNumber          0\n",
      "CustomerId         0\n",
      "Surname            0\n",
      "CreditScore        0\n",
      "Geography          0\n",
      "Gender             0\n",
      "Age                0\n",
      "Tenure             0\n",
      "Balance            0\n",
      "NumOfProducts      0\n",
      "HasCrCard          0\n",
      "IsActiveMember     0\n",
      "EstimatedSalary    0\n",
      "Exited             0\n",
      "dtype: int64\n"
     ]
    }
   ],
   "source": [
    "print(df.isnull().sum())"
   ]
  },
  {
   "cell_type": "markdown",
   "id": "a8317bd2-12eb-4dab-81c8-0f6a718c51ae",
   "metadata": {},
   "source": [
    "#\n",
    "\n",
    "##### Dataset review:\n",
    "\n",
    "This Bank Customer Churn dataset contains information on 10,000 customers, with 13 features and 1 target label indicating whether the customer has exited / churned or the customer remained with the bank. This dataset has no missing values. Each row represents one customer, and the Exited column indicates churn status or zero if the customer stayed and one if the customer exited / churned. \n",
    "\n",
    "\n",
    "#\n",
    "\n",
    "\n",
    "1.\tRowNumber: Sequential index for each customer (not predictive)\n",
    "  \n",
    "3.\tCustomerId: Unique customer identifier (not predictive)\n",
    "  \n",
    "5.\tSurname: Customer’s last name (not predictive)\n",
    "  \n",
    "7.\tCreditScore: Integer score representing creditworthiness (about 350–850)\n",
    "  \n",
    "9.\tGeography: Country of residence (France, Spain, Germany)\n",
    "   \n",
    "11.\tGender: Customer gender (Male, Female)\n",
    "   \n",
    "13.\tAge: Customer age in years (young adults to seniors)\n",
    "   \n",
    "15.\tTenure: Number of years the customer has been with the bank (0–10)\n",
    "   \n",
    "17.\tBalance: Account balance in dollars (zero for high-income customers)\n",
    "   \n",
    "19.\tNumOfProducts: Number of bank products the customer uses (1–4)\n",
    "   \n",
    "21.\tHasCrCard: Binary flag indicating if the customer has a credit card (1 = yes, 0 = no)\n",
    "   \n",
    "23.\tIsActiveMember: Binary flag indicating if the customer is actively engaged (1 = active, 0 = inactive)\n",
    "   \n",
    "25.\tEstimatedSalary: Annual salary estimate in dollars\n",
    "   \n",
    "27.\tExited: Target variable — 1 if the customer churned, 0 if retained\n",
    "\n",
    "\n",
    "#\n",
    "\n"
   ]
  },
  {
   "cell_type": "code",
   "execution_count": 3,
   "id": "44eb90da-e1b3-4eb4-a2d3-9e1be06e33c9",
   "metadata": {},
   "outputs": [],
   "source": [
    "#create target variable\n",
    "y = df[\"Exited\"]"
   ]
  },
  {
   "cell_type": "code",
   "execution_count": 4,
   "id": "370f526e-5e37-4818-afbf-24f9eec4e01b",
   "metadata": {},
   "outputs": [],
   "source": [
    "#feature selection (drop irrelevant columns)\n",
    "X = df.drop(columns=[\"RowNumber\", \"CustomerId\", \"Surname\", \"Exited\"])"
   ]
  },
  {
   "cell_type": "code",
   "execution_count": 5,
   "id": "0f85c905-ba15-4a3d-99a6-526195b9f461",
   "metadata": {},
   "outputs": [],
   "source": [
    "#encode categorical variables,  male=1, female=0 with one-hot encode \n",
    "X[\"Gender\"] = LabelEncoder().fit_transform(X[\"Gender\"])  \n",
    "X = pd.get_dummies(X, columns=[\"Geography\"], drop_first=True)  "
   ]
  },
  {
   "cell_type": "code",
   "execution_count": 6,
   "id": "1f07dd0d-76e2-477a-89d8-a5c87aab311d",
   "metadata": {},
   "outputs": [],
   "source": [
    "#feature scaling\n",
    "scaler = StandardScaler()\n",
    "X_scaled = scaler.fit_transform(X)"
   ]
  },
  {
   "cell_type": "code",
   "execution_count": 7,
   "id": "1ba64dee-7780-4d9d-8788-6b4e81809109",
   "metadata": {},
   "outputs": [],
   "source": [
    "#train-test split\n",
    "X_train, X_test, y_train, y_test = train_test_split(X_scaled, y, test_size=0.2, random_state=42)"
   ]
  },
  {
   "cell_type": "code",
   "execution_count": 8,
   "id": "15bde4b8-858f-4e61-a141-6cd96e30c665",
   "metadata": {},
   "outputs": [
    {
     "name": "stderr",
     "output_type": "stream",
     "text": [
      "C:\\Users\\britt\\OneDrive\\Documents\\M_ANA615\\ANACONDA\\envs\\tf_env\\lib\\site-packages\\keras\\src\\layers\\core\\dense.py:93: UserWarning: Do not pass an `input_shape`/`input_dim` argument to a layer. When using Sequential models, prefer using an `Input(shape)` object as the first layer in the model instead.\n",
      "  super().__init__(activity_regularizer=activity_regularizer, **kwargs)\n"
     ]
    }
   ],
   "source": [
    "#ANN\n",
    "model = Sequential()\n",
    "\n",
    "#use ‘relu’ activation for the first and second layers\n",
    "model.add(Dense(units=6, activation='relu', input_dim=X_train.shape[1]))\n",
    "\n",
    "#use ‘relu’ activation for the first and second layers\n",
    "model.add(Dense(units=6, activation='relu'))\n",
    "\n",
    "#'sigmoid’ for the last dense layer.\n",
    "model.add(Dense(units=1, activation='sigmoid'))\n",
    "\n",
    "#for compiling, use ‘adam’ optimizer and loss should be ‘binary_crossentropy’\n",
    "model.compile(optimizer='adam', loss='binary_crossentropy', metrics=['accuracy'])"
   ]
  },
  {
   "cell_type": "code",
   "execution_count": 9,
   "id": "1f23fa00-6762-49be-85d1-2ec8ed3f50d4",
   "metadata": {},
   "outputs": [
    {
     "data": {
      "text/plain": [
       "<keras.src.callbacks.history.History at 0x13fbe4e56a0>"
      ]
     },
     "execution_count": 9,
     "metadata": {},
     "output_type": "execute_result"
    }
   ],
   "source": [
    "#train ANN\n",
    "model.fit(X_train, y_train, batch_size=32, epochs=100, verbose=0)"
   ]
  },
  {
   "cell_type": "code",
   "execution_count": 10,
   "id": "60c1f6b7-b205-4f43-adf4-6aff3dccd01d",
   "metadata": {},
   "outputs": [
    {
     "name": "stdout",
     "output_type": "stream",
     "text": [
      "\u001b[1m63/63\u001b[0m \u001b[32m━━━━━━━━━━━━━━━━━━━━\u001b[0m\u001b[37m\u001b[0m \u001b[1m0s\u001b[0m 2ms/step\n"
     ]
    }
   ],
   "source": [
    "#predict on test set\n",
    "y_pred = model.predict(X_test)\n",
    "y_pred_binary = (y_pred > 0.5).astype(int)"
   ]
  },
  {
   "cell_type": "code",
   "execution_count": 11,
   "id": "37a5cf12-4855-4600-bf91-2b9ff6b57601",
   "metadata": {},
   "outputs": [
    {
     "name": "stdout",
     "output_type": "stream",
     "text": [
      "Confusion Matrix:\n",
      " [[1537   70]\n",
      " [ 206  187]]\n",
      "Accuracy: 0.862\n"
     ]
    }
   ],
   "source": [
    "#confusion matrix and accuracy\n",
    "cm = confusion_matrix(y_test, y_pred_binary)\n",
    "acc = accuracy_score(y_test, y_pred_binary)\n",
    "\n",
    "print(\"Confusion Matrix:\\n\", cm)\n",
    "print(\"Accuracy:\", round(acc, 4))"
   ]
  },
  {
   "cell_type": "markdown",
   "id": "5002cbf0-fc7e-4189-9a71-c5ccc3056a8e",
   "metadata": {},
   "source": [
    "#\n",
    "\n",
    "This ANN model correctly predicted 86.2% of cases overall. Though is model is better at precision than recall, I would proceed with caution about predicting churn, as this ANN model missed many actual churners and this can become costly in business terms. \n",
    "\n",
    "\n",
    "TN = 1537 : the ANN model correctly identified 1537 customers who did not churn\n",
    "\n",
    "FP = 70: the ANN model identified 70 customers who were predicted to churn but actually stayed\n",
    "\n",
    "FN = 206: the ANN model missed 206 churners, this is critical in churn modeling\n",
    "\n",
    "TP = 187: the ANN model correctly identified correctly identified 187 churners\n",
    "\n",
    "\n",
    "\n",
    "#\n",
    "\n",
    "\n",
    "\n",
    "##### [[TN, FP]\n",
    "##### [FN, TP]]\n",
    "\n",
    "\n",
    "##### Legend:\n",
    "\n",
    "TN = True Negative: Customers who stayed and were correctly predicted as staying\n",
    "\n",
    "FP = False Positives: Customers who stayed but were incorrectly predicted to churn\n",
    "\n",
    "FN = False Negatives: Customers who churned but were missed by the model\n",
    "\n",
    "TP = True Positives: Customers who churned and were correctly predicted to churn\n",
    "\n",
    "\n",
    "#"
   ]
  },
  {
   "cell_type": "code",
   "execution_count": null,
   "id": "f62f3941-1c02-4038-8b6c-ff69b93ccef8",
   "metadata": {},
   "outputs": [],
   "source": []
  }
 ],
 "metadata": {
  "kernelspec": {
   "display_name": "Python (tf_env)",
   "language": "python",
   "name": "tf_env"
  },
  "language_info": {
   "codemirror_mode": {
    "name": "ipython",
    "version": 3
   },
   "file_extension": ".py",
   "mimetype": "text/x-python",
   "name": "python",
   "nbconvert_exporter": "python",
   "pygments_lexer": "ipython3",
   "version": "3.9.23"
  }
 },
 "nbformat": 4,
 "nbformat_minor": 5
}
